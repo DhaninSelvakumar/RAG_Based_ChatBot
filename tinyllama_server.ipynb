{
 "cells": [
  {
   "cell_type": "code",
   "execution_count": 1,
   "id": "dd7eac50",
   "metadata": {},
   "outputs": [],
   "source": [
    "from fastapi import FastAPI\n",
    "from pydantic import BaseModel\n",
    "import nest_asyncio, uvicorn"
   ]
  },
  {
   "cell_type": "code",
   "execution_count": 2,
   "id": "aec0cf94",
   "metadata": {},
   "outputs": [],
   "source": [
    "\n",
    "app = FastAPI(title=\"TinyLlama Service\", version=\"1.0.0\")"
   ]
  },
  {
   "cell_type": "code",
   "execution_count": null,
   "id": "9142f3a0",
   "metadata": {},
   "outputs": [
    {
     "name": "stderr",
     "output_type": "stream",
     "text": [
      "INFO:     Started server process [9356]\n",
      "INFO:     Waiting for application startup.\n",
      "INFO:     Application startup complete.\n"
     ]
    },
    {
     "name": "stderr",
     "output_type": "stream",
     "text": [
      "INFO:     Uvicorn running on http://0.0.0.0:8011 (Press CTRL+C to quit)\n"
     ]
    },
    {
     "name": "stdout",
     "output_type": "stream",
     "text": [
      "INFO:     127.0.0.1:57922 - \"POST /generate HTTP/1.1\" 200 OK\n",
      "INFO:     127.0.0.1:58634 - \"POST /generate HTTP/1.1\" 200 OK\n"
     ]
    }
   ],
   "source": [
    "class GenerateRequest(BaseModel):\n",
    "    prompt: str\n",
    "\n",
    "@app.post(\"/generate\")\n",
    "async def generate(body: GenerateRequest):\n",
    "    \"\"\"\n",
    "    Basic TinyLlama generation endpoint without RAG functionality.\n",
    "    This would be replaced with your actual TinyLlama model implementation.\n",
    "    \"\"\"\n",
    "    # This is a placeholder - in reality you would call your TinyLlama model here\n",
    "    response = f\"Generated response for: {body.prompt}\"\n",
    "    return {\"response\": response}\n",
    "\n",
    "if __name__ == \"__main__\":\n",
    "    nest_asyncio.apply()  # allow running inside Jupyter\n",
    "    uvicorn.run(app, host=\"0.0.0.0\", port=8011)"
   ]
  },
  {
   "cell_type": "code",
   "execution_count": null,
   "id": "83e2ade4",
   "metadata": {},
   "outputs": [],
   "source": []
  }
 ],
 "metadata": {
  "kernelspec": {
   "display_name": "llm (env)",
   "language": "python",
   "name": "llmenv"
  },
  "language_info": {
   "codemirror_mode": {
    "name": "ipython",
    "version": 3
   },
   "file_extension": ".py",
   "mimetype": "text/x-python",
   "name": "python",
   "nbconvert_exporter": "python",
   "pygments_lexer": "ipython3",
   "version": "3.12.6"
  }
 },
 "nbformat": 4,
 "nbformat_minor": 5
}
