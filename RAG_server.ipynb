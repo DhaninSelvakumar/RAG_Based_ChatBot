{
 "cells": [
  {
   "cell_type": "code",
   "execution_count": 1,
   "id": "52811ff7",
   "metadata": {},
   "outputs": [
    {
     "name": "stderr",
     "output_type": "stream",
     "text": [
      "e:\\Dhanin folder\\ml_mdel\\Oringinal projects\\LLMS\\llmenv\\Lib\\site-packages\\tqdm\\auto.py:21: TqdmWarning: IProgress not found. Please update jupyter and ipywidgets. See https://ipywidgets.readthedocs.io/en/stable/user_install.html\n",
      "  from .autonotebook import tqdm as notebook_tqdm\n"
     ]
    }
   ],
   "source": [
    "from fastapi import FastAPI, UploadFile, File, Form\n",
    "from fastapi.middleware.cors import CORSMiddleware\n",
    "from pydantic import BaseModel\n",
    "import os, io, uuid, re\n",
    "import chromadb\n",
    "from chromadb.config import Settings\n",
    "from sentence_transformers import SentenceTransformer\n",
    "from typing import List, Dict, Any, Optional\n",
    "from pypdf import PdfReader\n",
    "import requests\n",
    "import nest_asyncio, uvicorn"
   ]
  },
  {
   "cell_type": "code",
   "execution_count": 2,
   "id": "fce7cf42",
   "metadata": {},
   "outputs": [],
   "source": [
    "TINYLLAMA_API = os.environ.get(\"TINYLLAMA_API\", \"http://localhost:8011/generate\")\n",
    "PERSIST_DIR = os.environ.get(\"RAG_STORE\", \"./rag_store\")\n",
    "COLLECTION_NAME = os.environ.get(\"RAG_COLLECTION\", \"tinyllama_docs\")\n",
    "EMB_MODEL_NAME = os.environ.get(\"EMB_MODEL\", \"sentence-transformers/all-MiniLM-L6-v2\")\n"
   ]
  },
  {
   "cell_type": "code",
   "execution_count": 3,
   "id": "3102ad77",
   "metadata": {},
   "outputs": [],
   "source": [
    "app = FastAPI(title=\"TinyLlama RAG Service\", version=\"1.0.0\")\n",
    "app.add_middleware(\n",
    "    CORSMiddleware,\n",
    "    allow_origins=[\"*\"],\n",
    "    allow_methods=[\"*\"],\n",
    "    allow_headers=[\"*\"],\n",
    ")"
   ]
  },
  {
   "cell_type": "code",
   "execution_count": 4,
   "id": "670d68d9",
   "metadata": {},
   "outputs": [],
   "source": [
    "emb_model = SentenceTransformer(EMB_MODEL_NAME)\n",
    "\n",
    "def embed_texts(texts: List[str]) -> List[List[float]]:\n",
    "    return emb_model.encode(texts, normalize_embeddings=True).tolist()\n"
   ]
  },
  {
   "cell_type": "code",
   "execution_count": 5,
   "id": "54079c45",
   "metadata": {},
   "outputs": [],
   "source": [
    "client = chromadb.PersistentClient(path=PERSIST_DIR, settings=Settings(anonymized_telemetry=False))\n",
    "try:\n",
    "    collection = client.get_collection(COLLECTION_NAME)\n",
    "except Exception:\n",
    "    collection = client.create_collection(COLLECTION_NAME, metadata={\"hnsw:space\": \"cosine\"})\n"
   ]
  },
  {
   "cell_type": "code",
   "execution_count": 6,
   "id": "cb93114f",
   "metadata": {},
   "outputs": [],
   "source": [
    "SENT_SPLIT = re.compile(r\"(?<=[.!?])\\s+\")\n",
    "\n",
    "def chunk_text(text: str, chunk_size: int = 700, overlap: int = 120) -> List[str]:\n",
    "    # sentence-aware greedy chunking\n",
    "    sents = re.split(SENT_SPLIT, text.strip()) if text else []\n",
    "    chunks, cur = [], \"\"\n",
    "    for s in sents:\n",
    "        if len(cur) + len(s) + 1 <= chunk_size:\n",
    "            cur = (cur + \" \" + s).strip()\n",
    "        else:\n",
    "            if cur:\n",
    "                chunks.append(cur)\n",
    "            cur = s\n",
    "    if cur:\n",
    "        chunks.append(cur)\n",
    "    # add overlap\n",
    "    with_overlap = []\n",
    "    prev_tail = \"\"\n",
    "    for ch in chunks:\n",
    "        piece = (prev_tail + \" \" + ch).strip() if prev_tail else ch\n",
    "        with_overlap.append(piece)\n",
    "        prev_tail = ch[-overlap:]\n",
    "    return [c for c in with_overlap if c.strip()]\n",
    "\n",
    "\n",
    "def read_file_bytes(file: UploadFile) -> str:\n",
    "    if file.filename.lower().endswith(\".pdf\"):\n",
    "        data = io.BytesIO(file.file.read())\n",
    "        pdf = PdfReader(data)\n",
    "        text = []\n",
    "        for page in pdf.pages:\n",
    "            try:\n",
    "                text.append(page.extract_text() or \"\")\n",
    "            except Exception:\n",
    "                pass\n",
    "        return \"\\n\".join(text)\n",
    "    else:\n",
    "        # .txt, .md, etc.\n",
    "        return file.file.read().decode(\"utf-8\", errors=\"ignore\")\n",
    "\n"
   ]
  },
  {
   "cell_type": "code",
   "execution_count": 7,
   "id": "9982b74b",
   "metadata": {},
   "outputs": [],
   "source": [
    "class GenerateIn(BaseModel):\n",
    "    prompt: str\n",
    "    use_rag: bool = True\n",
    "    top_k: int = 4\n",
    "    system_prompt: Optional[str] = None\n",
    "\n",
    "class GenerateOut(BaseModel):\n",
    "    response: str\n",
    "    sources: List[Dict[str, Any]]\n",
    "    context_tokens: int\n"
   ]
  },
  {
   "cell_type": "code",
   "execution_count": 8,
   "id": "119aac1e",
   "metadata": {},
   "outputs": [],
   "source": [
    "@app.post(\"/ingest\")\n",
    "async def ingest(files: List[UploadFile] = File(...), namespace: str = Form(\"default\")):\n",
    "    added = 0\n",
    "    for f in files:\n",
    "        raw = read_file_bytes(f)\n",
    "        chunks = chunk_text(raw)\n",
    "        ids = [str(uuid.uuid4()) for _ in chunks]\n",
    "        metadata = [{\"filename\": f.filename, \"namespace\": namespace, \"chunk_index\": i} for i, _ in enumerate(chunks)]\n",
    "        embeddings = embed_texts(chunks)\n",
    "        collection.add(ids=ids, documents=chunks, embeddings=embeddings, metadatas=metadata)\n",
    "        added += len(chunks)\n",
    "    return {\"status\": \"ok\", \"chunks_added\": added, \"collection\": COLLECTION_NAME}\n",
    "\n",
    "\n"
   ]
  },
  {
   "cell_type": "code",
   "execution_count": 9,
   "id": "265063a5",
   "metadata": {},
   "outputs": [],
   "source": [
    "def build_rag_prompt(query: str, contexts: List[str], system_prompt: Optional[str]) -> str:\n",
    "    system = system_prompt or (\n",
    "        \"You are a precise assistant. Answer using ONLY the provided context. If the answer isn't in the context, say you don't know.\"\n",
    "    )\n",
    "    joined = \"\\n\\n\".join([f\"[Doc {i+1}]\\n\" + c for i, c in enumerate(contexts)])\n",
    "    return (\n",
    "        f\"<|system|>\\n{system}\\n</|system|>\\n\"\n",
    "        f\"<|context|>\\n{joined}\\n</|context|>\\n\"\n",
    "        f\"<|user|>\\n{query}\\n</|user|>\\n\"\n",
    "        f\"<|assistant|>\"\n",
    "    )\n",
    "\n"
   ]
  },
  {
   "cell_type": "code",
   "execution_count": 10,
   "id": "2735c7ef",
   "metadata": {},
   "outputs": [],
   "source": [
    "@app.post(\"/generate\", response_model=GenerateOut)\n",
    "async def generate(body: GenerateIn):\n",
    "    sources: List[Dict[str, Any]] = []\n",
    "    contexts: List[str] = []\n",
    "\n",
    "    if body.use_rag:\n",
    "        res = collection.query(\n",
    "            query_embeddings=embed_texts([body.prompt]),\n",
    "            n_results=max(1, min(10, body.top_k)),\n",
    "            include=[\"documents\", \"metadatas\", \"distances\"],\n",
    "        )\n",
    "        docs = res.get(\"documents\", [[]])[0]\n",
    "        mets = res.get(\"metadatas\", [[]])[0]\n",
    "        dists = res.get(\"distances\", [[]])[0]\n",
    "        for doc, meta, dist in zip(docs, mets, dists):\n",
    "            contexts.append(doc)\n",
    "            sources.append({\n",
    "                \"filename\": meta.get(\"filename\"),\n",
    "                \"namespace\": meta.get(\"namespace\"),\n",
    "                \"chunk_index\": meta.get(\"chunk_index\"),\n",
    "                \"score\": float(1 - dist)  # cosine similarity approx\n",
    "            })\n",
    "\n",
    "    final_prompt = build_rag_prompt(body.prompt, contexts, body.system_prompt) if body.use_rag else body.prompt\n",
    "\n",
    "    # Forward to your existing TinyLlama API\n",
    "    try:\n",
    "        resp = requests.post(TINYLLAMA_API, json={\"prompt\": final_prompt}, timeout=120)\n",
    "        resp.raise_for_status()\n",
    "        model_text = resp.json().get(\"response\", \"\")\n",
    "    except Exception as e:\n",
    "        model_text = f\"[RAG] Error calling TinyLlama API: {e}\"\n",
    "\n",
    "    context_tokens = sum(len(c.split()) for c in contexts)\n",
    "    return GenerateOut(response=model_text, sources=sources, context_tokens=context_tokens)\n"
   ]
  },
  {
   "cell_type": "code",
   "execution_count": 11,
   "id": "04aa1036",
   "metadata": {},
   "outputs": [],
   "source": [
    "@app.get(\"/\")\n",
    "def root():\n",
    "    return {\"service\": \"tinyllama-rag\", \"collection\": COLLECTION_NAME, \"persist_dir\": PERSIST_DIR}\n",
    "\n",
    "# Run: uvicorn rag_backend:app --port 8010 --reload"
   ]
  },
  {
   "cell_type": "code",
   "execution_count": null,
   "id": "40467d48",
   "metadata": {},
   "outputs": [
    {
     "name": "stderr",
     "output_type": "stream",
     "text": [
      "INFO:     Started server process [16564]\n",
      "INFO:     Waiting for application startup.\n",
      "INFO:     Application startup complete.\n",
      "INFO:     Uvicorn running on http://0.0.0.0:8010 (Press CTRL+C to quit)\n"
     ]
    },
    {
     "name": "stdout",
     "output_type": "stream",
     "text": [
      "INFO:     127.0.0.1:57907 - \"POST /ingest HTTP/1.1\" 200 OK\n",
      "INFO:     127.0.0.1:57920 - \"POST /generate HTTP/1.1\" 200 OK\n",
      "INFO:     127.0.0.1:58624 - \"POST /ingest HTTP/1.1\" 200 OK\n",
      "INFO:     127.0.0.1:58632 - \"POST /generate HTTP/1.1\" 200 OK\n"
     ]
    }
   ],
   "source": [
    "nest_asyncio.apply()  # allow running inside Jupyter\n",
    "\n",
    "uvicorn.run(app, host=\"0.0.0.0\", port=8010)"
   ]
  },
  {
   "cell_type": "code",
   "execution_count": null,
   "id": "6b67f12f",
   "metadata": {},
   "outputs": [],
   "source": []
  }
 ],
 "metadata": {
  "kernelspec": {
   "display_name": "llm (env)",
   "language": "python",
   "name": "llmenv"
  },
  "language_info": {
   "codemirror_mode": {
    "name": "ipython",
    "version": 3
   },
   "file_extension": ".py",
   "mimetype": "text/x-python",
   "name": "python",
   "nbconvert_exporter": "python",
   "pygments_lexer": "ipython3",
   "version": "3.12.6"
  }
 },
 "nbformat": 4,
 "nbformat_minor": 5
}
